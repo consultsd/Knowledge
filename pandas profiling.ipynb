{
 "cells": [
  {
   "cell_type": "code",
   "execution_count": 1,
   "metadata": {
    "collapsed": true
   },
   "outputs": [],
   "source": [
    "#Open command prompt (Windows Power Shell) and type the following -\n",
    "#pip install pandas-profiling\n",
    "import numpy as np\n",
    "import pandas as pd\n",
    "import pandas_profiling \n",
    "\n",
    "#To find version of pandas\n",
    "pd.__version__\n",
    "\n",
    "#Type the following in Windows Powershell to upgrade to latest version\n",
    "#conda update pandas\n",
    "\n",
    "%matplotlib inline\n",
    "from matplotlib.pylab import rcParams\n",
    "rcParams['figure.figsize'] = 25,10\n",
    "import matplotlib.pyplot as plt\n",
    "\n",
    "pd.set_option('display.precision',2)\n",
    "pd.set_option('display.float_format','{:,}'.format)\n",
    "\n",
    "#pd.reset_option('all')\n",
    "#http://chrisalbon.com/ #Link for Pandas operations"
   ]
  },
  {
   "cell_type": "code",
   "execution_count": 6,
   "metadata": {
    "collapsed": true
   },
   "outputs": [],
   "source": [
    "#Importing dataset\n",
    "data_path = \"C:/Users/Sharath P Dandamudi/Desktop/Titanic/\"\n",
    "\n",
    "# df = data_path + \"train.xlsx\"\n",
    "df = data_path + \"train.csv\""
   ]
  },
  {
   "cell_type": "code",
   "execution_count": 7,
   "metadata": {
    "collapsed": false
   },
   "outputs": [],
   "source": [
    "# train = pd.read_excel(df,header=0) \n",
    "train = pd.read_csv(df) "
   ]
  },
  {
   "cell_type": "code",
   "execution_count": 8,
   "metadata": {
    "collapsed": false
   },
   "outputs": [
    {
     "data": {
      "text/plain": [
       "(891, 12)"
      ]
     },
     "execution_count": 8,
     "metadata": {},
     "output_type": "execute_result"
    }
   ],
   "source": [
    "train.shape"
   ]
  },
  {
   "cell_type": "code",
   "execution_count": 9,
   "metadata": {
    "collapsed": true
   },
   "outputs": [],
   "source": [
    "#EDA \n",
    "pfr = pandas_profiling.ProfileReport(train)\n",
    "output_file = data_path + \"eda_output.html\"\n",
    "pfr.to_file(output_file)"
   ]
  },
  {
   "cell_type": "code",
   "execution_count": null,
   "metadata": {
    "collapsed": true
   },
   "outputs": [],
   "source": [
    "# #Code if there are both train and test datasets\n",
    "\n",
    "# #Importing train and test datasets\n",
    "# data_path = \"C:/Users/Sharath P Dandamudi/Desktop/Dataset/\"\n",
    "# train_file = data_path + \"train.xlsx\"\n",
    "# test_file = data_path +  \"test.xlsx\"\n",
    "\n",
    "# train1 = pd.read_excel(train_file,header=0) \n",
    "# test1 = pd.read_excel(test_file,header=0)\n",
    "\n",
    "\n",
    "# #To avoid rerunning the codes to import datsets if overwritten\n",
    "# train=train1\n",
    "# test=test1\n",
    "\n",
    "\n",
    "# #Checking the dimensions of train and test datasets\n",
    "# print train.shape,test.shape\n",
    "\n",
    "# #Checking the data types in train dataset\n",
    "# #train.columns\n",
    "# train.dtypes\n",
    "\n",
    "# #Combine train and test into a dataset\n",
    "# train['source']= 'train'\n",
    "# test['source'] = 'test'\n",
    "# data=pd.concat([train, test],ignore_index=True)\n",
    "# data.shape\n",
    "\n",
    "\n",
    "# #EDA \n",
    "# pfr = pandas_profiling.ProfileReport(data)\n",
    "# output_file = data_path + \"eda_output.html\"\n",
    "# pfr.to_file(output_file)"
   ]
  }
 ],
 "metadata": {
  "kernelspec": {
   "display_name": "Python 2",
   "language": "python",
   "name": "python2"
  },
  "language_info": {
   "codemirror_mode": {
    "name": "ipython",
    "version": 2
   },
   "file_extension": ".py",
   "mimetype": "text/x-python",
   "name": "python",
   "nbconvert_exporter": "python",
   "pygments_lexer": "ipython2",
   "version": "2.7.13"
  }
 },
 "nbformat": 4,
 "nbformat_minor": 2
}
